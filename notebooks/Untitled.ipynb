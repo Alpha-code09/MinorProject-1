{
 "cells": [
  {
   "cell_type": "markdown",
   "id": "8236c7e9",
   "metadata": {},
   "source": [
    "## Importing Libraries"
   ]
  },
  {
   "cell_type": "code",
   "execution_count": 2,
   "id": "d9b3fda0-cec7-4b98-a55e-48832159d9fe",
   "metadata": {},
   "outputs": [],
   "source": [
    "import tensorflow as tf\n",
    "import matplotlib.pyplot as plt\n",
    "import seaborn as sns\n",
    "import pandas as pd"
   ]
  },
  {
   "cell_type": "markdown",
   "id": "de2d204b",
   "metadata": {},
   "source": [
    "## Data Preprocessing"
   ]
  },
  {
   "cell_type": "markdown",
   "id": "dc8d1855",
   "metadata": {},
   "source": [
    "### Training Set Preprocessing"
   ]
  },
  {
   "cell_type": "code",
   "execution_count": 7,
   "id": "97796667",
   "metadata": {},
   "outputs": [
    {
     "name": "stdout",
     "output_type": "stream",
     "text": [
      "Found 70295 files belonging to 38 classes.\n"
     ]
    }
   ],
   "source": [
    "training_set = tf.keras.utils.image_dataset_from_directory(\n",
    "    \"/Users/aditya/Desktop/Repositories/MinorProject-1/Dataset/train\",\n",
    "    labels=\"inferred\",\n",
    "    label_mode=\"categorical\",\n",
    "    class_names=None,\n",
    "    color_mode=\"rgb\",\n",
    "    batch_size=32,\n",
    "    image_size=(128, 128),\n",
    "    shuffle=True,\n",
    "    seed=None,\n",
    "    validation_split=None,\n",
    "    subset=None,\n",
    "    interpolation=\"bilinear\",\n",
    "    follow_links=False,\n",
    "    crop_to_aspect_ratio=False,\n",
    ")"
   ]
  },
  {
   "cell_type": "markdown",
   "id": "fd821f87",
   "metadata": {},
   "source": [
    "### Validation Set Preprocessing"
   ]
  },
  {
   "cell_type": "code",
   "execution_count": 8,
   "id": "a3de2846",
   "metadata": {},
   "outputs": [
    {
     "name": "stdout",
     "output_type": "stream",
     "text": [
      "Found 17572 files belonging to 38 classes.\n"
     ]
    }
   ],
   "source": [
    "validation_set = tf.keras.utils.image_dataset_from_directory(\n",
    "    \"/Users/aditya/Desktop/Repositories/MinorProject-1/Dataset/val\",\n",
    "    labels=\"inferred\",\n",
    "    label_mode=\"categorical\",\n",
    "    class_names=None,\n",
    "    color_mode=\"rgb\",\n",
    "    batch_size=32,\n",
    "    image_size=(128, 128),\n",
    "    shuffle=True,\n",
    "    seed=None,\n",
    "    validation_split=None,\n",
    "    subset=None,\n",
    "    interpolation=\"bilinear\",\n",
    "    follow_links=False,\n",
    "    crop_to_aspect_ratio=False,\n",
    ")"
   ]
  },
  {
   "cell_type": "code",
   "execution_count": 9,
   "id": "834796e0",
   "metadata": {},
   "outputs": [
    {
     "data": {
      "text/plain": [
       "<_PrefetchDataset element_spec=(TensorSpec(shape=(None, 128, 128, 3), dtype=tf.float32, name=None), TensorSpec(shape=(None, 38), dtype=tf.float32, name=None))>"
      ]
     },
     "execution_count": 9,
     "metadata": {},
     "output_type": "execute_result"
    }
   ],
   "source": [
    "training_set"
   ]
  },
  {
   "cell_type": "code",
   "execution_count": 10,
   "id": "de50d9c9",
   "metadata": {},
   "outputs": [
    {
     "name": "stdout",
     "output_type": "stream",
     "text": [
      "tf.Tensor(\n",
      "[[[[ 47.    49.    61.  ]\n",
      "   [ 41.75  44.    55.25]\n",
      "   [ 40.5   43.5   52.5 ]\n",
      "   ...\n",
      "   [108.5  111.5  120.5 ]\n",
      "   [109.75 112.75 121.75]\n",
      "   [109.25 112.25 121.25]]\n",
      "\n",
      "  [[ 65.75  68.75  77.75]\n",
      "   [ 43.    46.    54.5 ]\n",
      "   [ 51.75  54.75  62.25]\n",
      "   ...\n",
      "   [107.   110.   119.  ]\n",
      "   [105.75 108.75 117.75]\n",
      "   [109.25 112.25 121.25]]\n",
      "\n",
      "  [[ 53.    53.    61.  ]\n",
      "   [ 53.25  53.5   60.75]\n",
      "   [ 59.25  60.    65.75]\n",
      "   ...\n",
      "   [109.5  112.5  121.5 ]\n",
      "   [107.25 110.25 119.25]\n",
      "   [106.   109.   118.  ]]\n",
      "\n",
      "  ...\n",
      "\n",
      "  [[ 76.5   98.5   95.5 ]\n",
      "   [ 70.75  92.75  89.75]\n",
      "   [ 83.   105.   102.  ]\n",
      "   ...\n",
      "   [195.25 193.25 196.25]\n",
      "   [188.5  186.5  189.5 ]\n",
      "   [187.   185.   188.  ]]\n",
      "\n",
      "  [[ 75.75  97.75  94.75]\n",
      "   [ 68.75  90.75  87.75]\n",
      "   [ 82.25 104.25 101.25]\n",
      "   ...\n",
      "   [185.5  183.5  186.5 ]\n",
      "   [188.25 186.25 189.25]\n",
      "   [191.75 189.75 192.75]]\n",
      "\n",
      "  [[ 71.25  93.25  90.25]\n",
      "   [ 71.    93.    90.  ]\n",
      "   [ 79.25 101.25  98.25]\n",
      "   ...\n",
      "   [186.25 184.25 187.25]\n",
      "   [179.75 177.75 180.75]\n",
      "   [182.   180.   183.  ]]]\n",
      "\n",
      "\n",
      " [[[128.   115.   133.  ]\n",
      "   [127.25 114.25 132.25]\n",
      "   [130.5  117.5  135.5 ]\n",
      "   ...\n",
      "   [165.   156.   173.  ]\n",
      "   [162.75 153.75 170.75]\n",
      "   [155.75 146.75 163.75]]\n",
      "\n",
      "  [[125.5  112.5  130.5 ]\n",
      "   [128.5  115.5  133.5 ]\n",
      "   [135.5  122.5  140.5 ]\n",
      "   ...\n",
      "   [152.25 143.25 160.25]\n",
      "   [154.   145.   162.  ]\n",
      "   [159.25 150.25 167.25]]\n",
      "\n",
      "  [[125.75 112.75 130.75]\n",
      "   [131.25 118.25 136.25]\n",
      "   [135.5  122.5  140.5 ]\n",
      "   ...\n",
      "   [165.   156.   173.  ]\n",
      "   [149.75 140.75 157.75]\n",
      "   [144.   135.   152.  ]]\n",
      "\n",
      "  ...\n",
      "\n",
      "  [[107.    91.   102.  ]\n",
      "   [116.5  100.5  111.5 ]\n",
      "   [114.    98.   109.  ]\n",
      "   ...\n",
      "   [138.   126.   138.  ]\n",
      "   [141.25 129.25 141.25]\n",
      "   [132.25 120.25 132.25]]\n",
      "\n",
      "  [[112.75  96.75 107.75]\n",
      "   [115.5   99.5  110.5 ]\n",
      "   [121.75 105.75 116.75]\n",
      "   ...\n",
      "   [137.5  125.5  137.5 ]\n",
      "   [146.75 134.75 146.75]\n",
      "   [140.25 128.25 140.25]]\n",
      "\n",
      "  [[118.   102.   113.  ]\n",
      "   [129.5  113.5  124.5 ]\n",
      "   [114.5   98.5  109.5 ]\n",
      "   ...\n",
      "   [136.75 124.75 136.75]\n",
      "   [126.25 114.25 126.25]\n",
      "   [133.5  121.5  133.5 ]]]\n",
      "\n",
      "\n",
      " [[[180.75 175.75 171.75]\n",
      "   [188.   183.   179.  ]\n",
      "   [186.25 181.25 177.25]\n",
      "   ...\n",
      "   [158.   147.   141.  ]\n",
      "   [165.5  154.5  148.5 ]\n",
      "   [157.   146.   140.  ]]\n",
      "\n",
      "  [[182.   177.   173.  ]\n",
      "   [188.75 183.75 179.75]\n",
      "   [187.75 182.75 178.75]\n",
      "   ...\n",
      "   [157.75 146.75 140.75]\n",
      "   [163.75 152.75 146.75]\n",
      "   [164.75 153.75 147.75]]\n",
      "\n",
      "  [[180.5  175.5  171.5 ]\n",
      "   [185.   180.   176.  ]\n",
      "   [183.25 178.25 174.25]\n",
      "   ...\n",
      "   [159.   148.   142.  ]\n",
      "   [162.   151.   145.  ]\n",
      "   [166.25 155.25 149.25]]\n",
      "\n",
      "  ...\n",
      "\n",
      "  [[207.75 202.75 199.75]\n",
      "   [202.   197.   194.  ]\n",
      "   [198.5  193.5  190.5 ]\n",
      "   ...\n",
      "   [176.25 163.25 157.25]\n",
      "   [171.   158.   152.  ]\n",
      "   [156.   143.   137.  ]]\n",
      "\n",
      "  [[198.5  193.5  190.5 ]\n",
      "   [185.25 180.25 177.25]\n",
      "   [211.   206.   203.  ]\n",
      "   ...\n",
      "   [145.   132.   126.  ]\n",
      "   [155.75 142.75 136.75]\n",
      "   [153.75 140.75 134.75]]\n",
      "\n",
      "  [[202.   197.   194.  ]\n",
      "   [186.75 181.75 178.75]\n",
      "   [200.75 195.75 192.75]\n",
      "   ...\n",
      "   [159.75 146.75 140.75]\n",
      "   [168.   155.   149.  ]\n",
      "   [132.25 119.25 113.25]]]\n",
      "\n",
      "\n",
      " ...\n",
      "\n",
      "\n",
      " [[[  1.     1.     1.  ]\n",
      "   [  1.     1.     1.  ]\n",
      "   [  1.     1.     1.  ]\n",
      "   ...\n",
      "   [  1.     1.     1.  ]\n",
      "   [  1.     1.     1.  ]\n",
      "   [  1.     1.     1.  ]]\n",
      "\n",
      "  [[  1.     1.     1.  ]\n",
      "   [  1.     1.     1.  ]\n",
      "   [  1.     1.     1.  ]\n",
      "   ...\n",
      "   [  1.     1.     1.  ]\n",
      "   [  1.     1.     1.  ]\n",
      "   [  1.     1.     1.  ]]\n",
      "\n",
      "  [[  1.     1.     1.  ]\n",
      "   [  1.     1.     1.  ]\n",
      "   [  1.     1.     1.  ]\n",
      "   ...\n",
      "   [  1.     1.     1.  ]\n",
      "   [  1.     1.     1.  ]\n",
      "   [  1.     1.     1.  ]]\n",
      "\n",
      "  ...\n",
      "\n",
      "  [[ 47.5   72.5   32.5 ]\n",
      "   [ 37.25  62.25  22.25]\n",
      "   [ 34.75  59.75  20.75]\n",
      "   ...\n",
      "   [ 74.5   94.    67.25]\n",
      "   [ 67.5   83.5   57.75]\n",
      "   [ 85.25 100.25  74.75]]\n",
      "\n",
      "  [[ 34.75  56.75  18.75]\n",
      "   [ 39.25  61.25  23.25]\n",
      "   [ 43.25  65.25  27.25]\n",
      "   ...\n",
      "   [ 75.75  98.    72.25]\n",
      "   [ 65.25  84.75  60.  ]\n",
      "   [ 77.5   95.5   71.5 ]]\n",
      "\n",
      "  [[ 32.75  54.75  16.75]\n",
      "   [ 36.25  58.25  20.25]\n",
      "   [ 39.    61.    25.  ]\n",
      "   ...\n",
      "   [ 69.    92.    66.  ]\n",
      "   [ 66.5   86.5   61.5 ]\n",
      "   [ 81.25  99.25  77.25]]]\n",
      "\n",
      "\n",
      " [[[145.5  146.5  138.5 ]\n",
      "   [142.5  143.5  135.5 ]\n",
      "   [143.75 144.75 136.75]\n",
      "   ...\n",
      "   [ 94.    94.    94.  ]\n",
      "   [ 95.75  95.75  95.75]\n",
      "   [ 89.    89.    89.  ]]\n",
      "\n",
      "  [[141.25 142.25 134.25]\n",
      "   [148.75 149.75 141.75]\n",
      "   [145.5  146.5  138.5 ]\n",
      "   ...\n",
      "   [ 88.    88.    88.  ]\n",
      "   [ 89.5   89.5   89.5 ]\n",
      "   [ 91.5   91.5   91.5 ]]\n",
      "\n",
      "  [[151.   152.   144.  ]\n",
      "   [151.75 152.75 144.75]\n",
      "   [154.75 155.75 147.75]\n",
      "   ...\n",
      "   [ 92.    92.    92.  ]\n",
      "   [ 96.25  96.25  96.25]\n",
      "   [ 96.    96.    96.  ]]\n",
      "\n",
      "  ...\n",
      "\n",
      "  [[159.25 165.25 155.25]\n",
      "   [157.25 163.25 153.25]\n",
      "   [161.   167.   157.  ]\n",
      "   ...\n",
      "   [108.5  114.5  112.5 ]\n",
      "   [111.   117.   115.  ]\n",
      "   [118.75 124.75 122.75]]\n",
      "\n",
      "  [[159.75 165.75 155.75]\n",
      "   [158.75 164.75 154.75]\n",
      "   [157.75 163.75 153.75]\n",
      "   ...\n",
      "   [115.25 121.25 119.25]\n",
      "   [109.75 115.75 113.75]\n",
      "   [115.5  121.5  119.5 ]]\n",
      "\n",
      "  [[156.75 162.75 152.75]\n",
      "   [161.75 167.75 157.75]\n",
      "   [161.75 167.75 157.75]\n",
      "   ...\n",
      "   [115.25 121.25 119.25]\n",
      "   [122.   128.   126.  ]\n",
      "   [122.   128.   126.  ]]]\n",
      "\n",
      "\n",
      " [[[ 61.    61.    91.5 ]\n",
      "   [ 61.5   61.5   92.  ]\n",
      "   [ 62.    62.    92.5 ]\n",
      "   ...\n",
      "   [ 46.5   43.5   61.  ]\n",
      "   [ 46.25  43.25  60.75]\n",
      "   [ 46.    43.    60.  ]]\n",
      "\n",
      "  [[118.5  117.   161.5 ]\n",
      "   [120.   118.5  163.  ]\n",
      "   [122.   120.5  165.  ]\n",
      "   ...\n",
      "   [ 89.5   83.   113.25]\n",
      "   [ 88.5   82.   112.  ]\n",
      "   [ 88.5   82.   111.  ]]\n",
      "\n",
      "  [[121.   117.5  175.  ]\n",
      "   [120.75 117.25 174.75]\n",
      "   [120.5  117.   174.5 ]\n",
      "   ...\n",
      "   [ 87.25  78.75 120.25]\n",
      "   [ 86.5   78.5  118.5 ]\n",
      "   [ 86.    78.   117.5 ]]\n",
      "\n",
      "  ...\n",
      "\n",
      "  [[130.75 127.75 174.75]\n",
      "   [124.25 121.25 168.25]\n",
      "   [124.   121.   168.  ]\n",
      "   ...\n",
      "   [ 49.    34.5   63.  ]\n",
      "   [ 48.    34.    58.5 ]\n",
      "   [ 40.75  27.25  48.75]]\n",
      "\n",
      "  [[126.5  123.5  170.5 ]\n",
      "   [128.25 125.25 172.25]\n",
      "   [127.25 124.25 171.25]\n",
      "   ...\n",
      "   [ 49.    34.5   63.  ]\n",
      "   [ 48.    34.    58.5 ]\n",
      "   [ 40.75  27.25  48.75]]\n",
      "\n",
      "  [[127.   124.   171.  ]\n",
      "   [130.75 127.75 174.75]\n",
      "   [129.   126.   173.  ]\n",
      "   ...\n",
      "   [ 48.25  33.75  62.25]\n",
      "   [ 48.75  34.75  59.25]\n",
      "   [ 43.    29.5   51.  ]]]], shape=(32, 128, 128, 3), dtype=float32) (32, 128, 128, 3)\n",
      "tf.Tensor(\n",
      "[[0. 0. 0. ... 0. 0. 0.]\n",
      " [0. 0. 0. ... 0. 1. 0.]\n",
      " [0. 0. 0. ... 0. 0. 0.]\n",
      " ...\n",
      " [0. 0. 0. ... 0. 0. 0.]\n",
      " [0. 0. 0. ... 1. 0. 0.]\n",
      " [1. 0. 0. ... 0. 0. 0.]], shape=(32, 38), dtype=float32) (32, 38)\n"
     ]
    }
   ],
   "source": [
    "for x,y in training_set:\n",
    "    print(x,x.shape)\n",
    "    print(y,y.shape)\n",
    "    break"
   ]
  },
  {
   "cell_type": "markdown",
   "id": "43430fe9",
   "metadata": {},
   "source": [
    "## Building Model"
   ]
  },
  {
   "cell_type": "code",
   "execution_count": 24,
   "id": "0716ff89",
   "metadata": {},
   "outputs": [],
   "source": [
    "from tensorflow.keras.layers import Dense, Conv2D, MaxPool2D, Flatten\n",
    "from tensorflow.keras.models import Sequential"
   ]
  },
  {
   "cell_type": "code",
   "execution_count": 12,
   "id": "abc9779f",
   "metadata": {},
   "outputs": [],
   "source": [
    "model = Sequential()"
   ]
  },
  {
   "cell_type": "markdown",
   "id": "edfe34f1",
   "metadata": {},
   "source": [
    "### Building Convolution Layer"
   ]
  },
  {
   "cell_type": "code",
   "execution_count": 16,
   "id": "b718913c",
   "metadata": {},
   "outputs": [],
   "source": [
    "model.add(Conv2D(filters=32,kernel_size=3,padding='same',activation='relu',input_shape=[128,128,3]))\n",
    "model.add(Conv2D(filters=32,kernel_size=3,padding='same',activation='relu'))\n",
    "model.add(MaxPool2D(pool_size=2,strides=2))"
   ]
  },
  {
   "cell_type": "code",
   "execution_count": 17,
   "id": "2c53c77d",
   "metadata": {},
   "outputs": [],
   "source": [
    "model.add(Conv2D(filters=64,kernel_size=3,padding='same',activation='relu',input_shape=[128,128,3]))\n",
    "model.add(Conv2D(filters=64,kernel_size=3,padding='same',activation='relu'))\n",
    "model.add(MaxPool2D(pool_size=2,strides=2))"
   ]
  },
  {
   "cell_type": "code",
   "execution_count": null,
   "id": "7c0083b7",
   "metadata": {},
   "outputs": [],
   "source": [
    "model.add(Conv2D(filters=128,kernel_size=3,padding='same',activation='relu',input_shape=[128,128,3]))\n",
    "model.add(Conv2D(filters=128,kernel_size=3,padding='same',activation='relu'))\n",
    "model.add(MaxPool2D(pool_size=2,strides=2))"
   ]
  },
  {
   "cell_type": "code",
   "execution_count": 19,
   "id": "9b2a38a5",
   "metadata": {},
   "outputs": [],
   "source": [
    "model.add(Conv2D(filters=256,kernel_size=3,padding='same',activation='relu',input_shape=[128,128,3]))\n",
    "model.add(Conv2D(filters=256,kernel_size=3,padding='same',activation='relu'))\n",
    "model.add(MaxPool2D(pool_size=2,strides=2))"
   ]
  },
  {
   "cell_type": "code",
   "execution_count": 25,
   "id": "95620ce0",
   "metadata": {},
   "outputs": [],
   "source": [
    "model.add(Flatten())\n",
    "model.add(Dense(units=1024,activation ='relu'))"
   ]
  },
  {
   "cell_type": "markdown",
   "id": "6ece99b9",
   "metadata": {},
   "source": [
    "### Output Layer"
   ]
  },
  {
   "cell_type": "code",
   "execution_count": 27,
   "id": "7fce8d7a",
   "metadata": {},
   "outputs": [],
   "source": [
    "model.add(Dense(units=38,activation='softmax'))"
   ]
  },
  {
   "cell_type": "markdown",
   "id": "95a72c7b",
   "metadata": {},
   "source": [
    "## Compiling Model"
   ]
  },
  {
   "cell_type": "code",
   "execution_count": 29,
   "id": "6235ed0d",
   "metadata": {},
   "outputs": [],
   "source": [
    "model.compile(optimizer='adam', loss='categorical_crossentropy', metrics=['accuracy'])"
   ]
  },
  {
   "cell_type": "code",
   "execution_count": 30,
   "id": "c5b687ec",
   "metadata": {},
   "outputs": [
    {
     "data": {
      "text/html": [
       "<pre style=\"white-space:pre;overflow-x:auto;line-height:normal;font-family:Menlo,'DejaVu Sans Mono',consolas,'Courier New',monospace\"><span style=\"font-weight: bold\">Model: \"sequential\"</span>\n",
       "</pre>\n"
      ],
      "text/plain": [
       "\u001b[1mModel: \"sequential\"\u001b[0m\n"
      ]
     },
     "metadata": {},
     "output_type": "display_data"
    },
    {
     "data": {
      "text/html": [
       "<pre style=\"white-space:pre;overflow-x:auto;line-height:normal;font-family:Menlo,'DejaVu Sans Mono',consolas,'Courier New',monospace\">┏━━━━━━━━━━━━━━━━━━━━━━━━━━━━━━━━━┳━━━━━━━━━━━━━━━━━━━━━━━━┳━━━━━━━━━━━━━━━┓\n",
       "┃<span style=\"font-weight: bold\"> Layer (type)                    </span>┃<span style=\"font-weight: bold\"> Output Shape           </span>┃<span style=\"font-weight: bold\">       Param # </span>┃\n",
       "┡━━━━━━━━━━━━━━━━━━━━━━━━━━━━━━━━━╇━━━━━━━━━━━━━━━━━━━━━━━━╇━━━━━━━━━━━━━━━┩\n",
       "│ conv2d (<span style=\"color: #0087ff; text-decoration-color: #0087ff\">Conv2D</span>)                 │ (<span style=\"color: #00d7ff; text-decoration-color: #00d7ff\">None</span>, <span style=\"color: #00af00; text-decoration-color: #00af00\">128</span>, <span style=\"color: #00af00; text-decoration-color: #00af00\">128</span>, <span style=\"color: #00af00; text-decoration-color: #00af00\">32</span>)   │           <span style=\"color: #00af00; text-decoration-color: #00af00\">896</span> │\n",
       "├─────────────────────────────────┼────────────────────────┼───────────────┤\n",
       "│ conv2d_1 (<span style=\"color: #0087ff; text-decoration-color: #0087ff\">Conv2D</span>)               │ (<span style=\"color: #00d7ff; text-decoration-color: #00d7ff\">None</span>, <span style=\"color: #00af00; text-decoration-color: #00af00\">128</span>, <span style=\"color: #00af00; text-decoration-color: #00af00\">128</span>, <span style=\"color: #00af00; text-decoration-color: #00af00\">32</span>)   │         <span style=\"color: #00af00; text-decoration-color: #00af00\">9,248</span> │\n",
       "├─────────────────────────────────┼────────────────────────┼───────────────┤\n",
       "│ conv2d_2 (<span style=\"color: #0087ff; text-decoration-color: #0087ff\">Conv2D</span>)               │ (<span style=\"color: #00d7ff; text-decoration-color: #00d7ff\">None</span>, <span style=\"color: #00af00; text-decoration-color: #00af00\">128</span>, <span style=\"color: #00af00; text-decoration-color: #00af00\">128</span>, <span style=\"color: #00af00; text-decoration-color: #00af00\">32</span>)   │         <span style=\"color: #00af00; text-decoration-color: #00af00\">9,248</span> │\n",
       "├─────────────────────────────────┼────────────────────────┼───────────────┤\n",
       "│ conv2d_3 (<span style=\"color: #0087ff; text-decoration-color: #0087ff\">Conv2D</span>)               │ (<span style=\"color: #00d7ff; text-decoration-color: #00d7ff\">None</span>, <span style=\"color: #00af00; text-decoration-color: #00af00\">128</span>, <span style=\"color: #00af00; text-decoration-color: #00af00\">128</span>, <span style=\"color: #00af00; text-decoration-color: #00af00\">32</span>)   │         <span style=\"color: #00af00; text-decoration-color: #00af00\">9,248</span> │\n",
       "├─────────────────────────────────┼────────────────────────┼───────────────┤\n",
       "│ max_pooling2d (<span style=\"color: #0087ff; text-decoration-color: #0087ff\">MaxPooling2D</span>)    │ (<span style=\"color: #00d7ff; text-decoration-color: #00d7ff\">None</span>, <span style=\"color: #00af00; text-decoration-color: #00af00\">64</span>, <span style=\"color: #00af00; text-decoration-color: #00af00\">64</span>, <span style=\"color: #00af00; text-decoration-color: #00af00\">32</span>)     │             <span style=\"color: #00af00; text-decoration-color: #00af00\">0</span> │\n",
       "├─────────────────────────────────┼────────────────────────┼───────────────┤\n",
       "│ conv2d_4 (<span style=\"color: #0087ff; text-decoration-color: #0087ff\">Conv2D</span>)               │ (<span style=\"color: #00d7ff; text-decoration-color: #00d7ff\">None</span>, <span style=\"color: #00af00; text-decoration-color: #00af00\">64</span>, <span style=\"color: #00af00; text-decoration-color: #00af00\">64</span>, <span style=\"color: #00af00; text-decoration-color: #00af00\">64</span>)     │        <span style=\"color: #00af00; text-decoration-color: #00af00\">18,496</span> │\n",
       "├─────────────────────────────────┼────────────────────────┼───────────────┤\n",
       "│ conv2d_5 (<span style=\"color: #0087ff; text-decoration-color: #0087ff\">Conv2D</span>)               │ (<span style=\"color: #00d7ff; text-decoration-color: #00d7ff\">None</span>, <span style=\"color: #00af00; text-decoration-color: #00af00\">64</span>, <span style=\"color: #00af00; text-decoration-color: #00af00\">64</span>, <span style=\"color: #00af00; text-decoration-color: #00af00\">64</span>)     │        <span style=\"color: #00af00; text-decoration-color: #00af00\">36,928</span> │\n",
       "├─────────────────────────────────┼────────────────────────┼───────────────┤\n",
       "│ max_pooling2d_1 (<span style=\"color: #0087ff; text-decoration-color: #0087ff\">MaxPooling2D</span>)  │ (<span style=\"color: #00d7ff; text-decoration-color: #00d7ff\">None</span>, <span style=\"color: #00af00; text-decoration-color: #00af00\">32</span>, <span style=\"color: #00af00; text-decoration-color: #00af00\">32</span>, <span style=\"color: #00af00; text-decoration-color: #00af00\">64</span>)     │             <span style=\"color: #00af00; text-decoration-color: #00af00\">0</span> │\n",
       "├─────────────────────────────────┼────────────────────────┼───────────────┤\n",
       "│ conv2d_6 (<span style=\"color: #0087ff; text-decoration-color: #0087ff\">Conv2D</span>)               │ (<span style=\"color: #00d7ff; text-decoration-color: #00d7ff\">None</span>, <span style=\"color: #00af00; text-decoration-color: #00af00\">32</span>, <span style=\"color: #00af00; text-decoration-color: #00af00\">32</span>, <span style=\"color: #00af00; text-decoration-color: #00af00\">64</span>)     │        <span style=\"color: #00af00; text-decoration-color: #00af00\">36,928</span> │\n",
       "├─────────────────────────────────┼────────────────────────┼───────────────┤\n",
       "│ conv2d_7 (<span style=\"color: #0087ff; text-decoration-color: #0087ff\">Conv2D</span>)               │ (<span style=\"color: #00d7ff; text-decoration-color: #00d7ff\">None</span>, <span style=\"color: #00af00; text-decoration-color: #00af00\">32</span>, <span style=\"color: #00af00; text-decoration-color: #00af00\">32</span>, <span style=\"color: #00af00; text-decoration-color: #00af00\">64</span>)     │        <span style=\"color: #00af00; text-decoration-color: #00af00\">36,928</span> │\n",
       "├─────────────────────────────────┼────────────────────────┼───────────────┤\n",
       "│ max_pooling2d_2 (<span style=\"color: #0087ff; text-decoration-color: #0087ff\">MaxPooling2D</span>)  │ (<span style=\"color: #00d7ff; text-decoration-color: #00d7ff\">None</span>, <span style=\"color: #00af00; text-decoration-color: #00af00\">16</span>, <span style=\"color: #00af00; text-decoration-color: #00af00\">16</span>, <span style=\"color: #00af00; text-decoration-color: #00af00\">64</span>)     │             <span style=\"color: #00af00; text-decoration-color: #00af00\">0</span> │\n",
       "├─────────────────────────────────┼────────────────────────┼───────────────┤\n",
       "│ conv2d_8 (<span style=\"color: #0087ff; text-decoration-color: #0087ff\">Conv2D</span>)               │ (<span style=\"color: #00d7ff; text-decoration-color: #00d7ff\">None</span>, <span style=\"color: #00af00; text-decoration-color: #00af00\">16</span>, <span style=\"color: #00af00; text-decoration-color: #00af00\">16</span>, <span style=\"color: #00af00; text-decoration-color: #00af00\">256</span>)    │       <span style=\"color: #00af00; text-decoration-color: #00af00\">147,712</span> │\n",
       "├─────────────────────────────────┼────────────────────────┼───────────────┤\n",
       "│ conv2d_9 (<span style=\"color: #0087ff; text-decoration-color: #0087ff\">Conv2D</span>)               │ (<span style=\"color: #00d7ff; text-decoration-color: #00d7ff\">None</span>, <span style=\"color: #00af00; text-decoration-color: #00af00\">16</span>, <span style=\"color: #00af00; text-decoration-color: #00af00\">16</span>, <span style=\"color: #00af00; text-decoration-color: #00af00\">256</span>)    │       <span style=\"color: #00af00; text-decoration-color: #00af00\">590,080</span> │\n",
       "├─────────────────────────────────┼────────────────────────┼───────────────┤\n",
       "│ max_pooling2d_3 (<span style=\"color: #0087ff; text-decoration-color: #0087ff\">MaxPooling2D</span>)  │ (<span style=\"color: #00d7ff; text-decoration-color: #00d7ff\">None</span>, <span style=\"color: #00af00; text-decoration-color: #00af00\">8</span>, <span style=\"color: #00af00; text-decoration-color: #00af00\">8</span>, <span style=\"color: #00af00; text-decoration-color: #00af00\">256</span>)      │             <span style=\"color: #00af00; text-decoration-color: #00af00\">0</span> │\n",
       "├─────────────────────────────────┼────────────────────────┼───────────────┤\n",
       "│ flatten (<span style=\"color: #0087ff; text-decoration-color: #0087ff\">Flatten</span>)               │ (<span style=\"color: #00d7ff; text-decoration-color: #00d7ff\">None</span>, <span style=\"color: #00af00; text-decoration-color: #00af00\">16384</span>)          │             <span style=\"color: #00af00; text-decoration-color: #00af00\">0</span> │\n",
       "├─────────────────────────────────┼────────────────────────┼───────────────┤\n",
       "│ dense (<span style=\"color: #0087ff; text-decoration-color: #0087ff\">Dense</span>)                   │ (<span style=\"color: #00d7ff; text-decoration-color: #00d7ff\">None</span>, <span style=\"color: #00af00; text-decoration-color: #00af00\">1024</span>)           │    <span style=\"color: #00af00; text-decoration-color: #00af00\">16,778,240</span> │\n",
       "├─────────────────────────────────┼────────────────────────┼───────────────┤\n",
       "│ dense_1 (<span style=\"color: #0087ff; text-decoration-color: #0087ff\">Dense</span>)                 │ (<span style=\"color: #00d7ff; text-decoration-color: #00d7ff\">None</span>, <span style=\"color: #00af00; text-decoration-color: #00af00\">38</span>)             │        <span style=\"color: #00af00; text-decoration-color: #00af00\">38,950</span> │\n",
       "└─────────────────────────────────┴────────────────────────┴───────────────┘\n",
       "</pre>\n"
      ],
      "text/plain": [
       "┏━━━━━━━━━━━━━━━━━━━━━━━━━━━━━━━━━┳━━━━━━━━━━━━━━━━━━━━━━━━┳━━━━━━━━━━━━━━━┓\n",
       "┃\u001b[1m \u001b[0m\u001b[1mLayer (type)                   \u001b[0m\u001b[1m \u001b[0m┃\u001b[1m \u001b[0m\u001b[1mOutput Shape          \u001b[0m\u001b[1m \u001b[0m┃\u001b[1m \u001b[0m\u001b[1m      Param #\u001b[0m\u001b[1m \u001b[0m┃\n",
       "┡━━━━━━━━━━━━━━━━━━━━━━━━━━━━━━━━━╇━━━━━━━━━━━━━━━━━━━━━━━━╇━━━━━━━━━━━━━━━┩\n",
       "│ conv2d (\u001b[38;5;33mConv2D\u001b[0m)                 │ (\u001b[38;5;45mNone\u001b[0m, \u001b[38;5;34m128\u001b[0m, \u001b[38;5;34m128\u001b[0m, \u001b[38;5;34m32\u001b[0m)   │           \u001b[38;5;34m896\u001b[0m │\n",
       "├─────────────────────────────────┼────────────────────────┼───────────────┤\n",
       "│ conv2d_1 (\u001b[38;5;33mConv2D\u001b[0m)               │ (\u001b[38;5;45mNone\u001b[0m, \u001b[38;5;34m128\u001b[0m, \u001b[38;5;34m128\u001b[0m, \u001b[38;5;34m32\u001b[0m)   │         \u001b[38;5;34m9,248\u001b[0m │\n",
       "├─────────────────────────────────┼────────────────────────┼───────────────┤\n",
       "│ conv2d_2 (\u001b[38;5;33mConv2D\u001b[0m)               │ (\u001b[38;5;45mNone\u001b[0m, \u001b[38;5;34m128\u001b[0m, \u001b[38;5;34m128\u001b[0m, \u001b[38;5;34m32\u001b[0m)   │         \u001b[38;5;34m9,248\u001b[0m │\n",
       "├─────────────────────────────────┼────────────────────────┼───────────────┤\n",
       "│ conv2d_3 (\u001b[38;5;33mConv2D\u001b[0m)               │ (\u001b[38;5;45mNone\u001b[0m, \u001b[38;5;34m128\u001b[0m, \u001b[38;5;34m128\u001b[0m, \u001b[38;5;34m32\u001b[0m)   │         \u001b[38;5;34m9,248\u001b[0m │\n",
       "├─────────────────────────────────┼────────────────────────┼───────────────┤\n",
       "│ max_pooling2d (\u001b[38;5;33mMaxPooling2D\u001b[0m)    │ (\u001b[38;5;45mNone\u001b[0m, \u001b[38;5;34m64\u001b[0m, \u001b[38;5;34m64\u001b[0m, \u001b[38;5;34m32\u001b[0m)     │             \u001b[38;5;34m0\u001b[0m │\n",
       "├─────────────────────────────────┼────────────────────────┼───────────────┤\n",
       "│ conv2d_4 (\u001b[38;5;33mConv2D\u001b[0m)               │ (\u001b[38;5;45mNone\u001b[0m, \u001b[38;5;34m64\u001b[0m, \u001b[38;5;34m64\u001b[0m, \u001b[38;5;34m64\u001b[0m)     │        \u001b[38;5;34m18,496\u001b[0m │\n",
       "├─────────────────────────────────┼────────────────────────┼───────────────┤\n",
       "│ conv2d_5 (\u001b[38;5;33mConv2D\u001b[0m)               │ (\u001b[38;5;45mNone\u001b[0m, \u001b[38;5;34m64\u001b[0m, \u001b[38;5;34m64\u001b[0m, \u001b[38;5;34m64\u001b[0m)     │        \u001b[38;5;34m36,928\u001b[0m │\n",
       "├─────────────────────────────────┼────────────────────────┼───────────────┤\n",
       "│ max_pooling2d_1 (\u001b[38;5;33mMaxPooling2D\u001b[0m)  │ (\u001b[38;5;45mNone\u001b[0m, \u001b[38;5;34m32\u001b[0m, \u001b[38;5;34m32\u001b[0m, \u001b[38;5;34m64\u001b[0m)     │             \u001b[38;5;34m0\u001b[0m │\n",
       "├─────────────────────────────────┼────────────────────────┼───────────────┤\n",
       "│ conv2d_6 (\u001b[38;5;33mConv2D\u001b[0m)               │ (\u001b[38;5;45mNone\u001b[0m, \u001b[38;5;34m32\u001b[0m, \u001b[38;5;34m32\u001b[0m, \u001b[38;5;34m64\u001b[0m)     │        \u001b[38;5;34m36,928\u001b[0m │\n",
       "├─────────────────────────────────┼────────────────────────┼───────────────┤\n",
       "│ conv2d_7 (\u001b[38;5;33mConv2D\u001b[0m)               │ (\u001b[38;5;45mNone\u001b[0m, \u001b[38;5;34m32\u001b[0m, \u001b[38;5;34m32\u001b[0m, \u001b[38;5;34m64\u001b[0m)     │        \u001b[38;5;34m36,928\u001b[0m │\n",
       "├─────────────────────────────────┼────────────────────────┼───────────────┤\n",
       "│ max_pooling2d_2 (\u001b[38;5;33mMaxPooling2D\u001b[0m)  │ (\u001b[38;5;45mNone\u001b[0m, \u001b[38;5;34m16\u001b[0m, \u001b[38;5;34m16\u001b[0m, \u001b[38;5;34m64\u001b[0m)     │             \u001b[38;5;34m0\u001b[0m │\n",
       "├─────────────────────────────────┼────────────────────────┼───────────────┤\n",
       "│ conv2d_8 (\u001b[38;5;33mConv2D\u001b[0m)               │ (\u001b[38;5;45mNone\u001b[0m, \u001b[38;5;34m16\u001b[0m, \u001b[38;5;34m16\u001b[0m, \u001b[38;5;34m256\u001b[0m)    │       \u001b[38;5;34m147,712\u001b[0m │\n",
       "├─────────────────────────────────┼────────────────────────┼───────────────┤\n",
       "│ conv2d_9 (\u001b[38;5;33mConv2D\u001b[0m)               │ (\u001b[38;5;45mNone\u001b[0m, \u001b[38;5;34m16\u001b[0m, \u001b[38;5;34m16\u001b[0m, \u001b[38;5;34m256\u001b[0m)    │       \u001b[38;5;34m590,080\u001b[0m │\n",
       "├─────────────────────────────────┼────────────────────────┼───────────────┤\n",
       "│ max_pooling2d_3 (\u001b[38;5;33mMaxPooling2D\u001b[0m)  │ (\u001b[38;5;45mNone\u001b[0m, \u001b[38;5;34m8\u001b[0m, \u001b[38;5;34m8\u001b[0m, \u001b[38;5;34m256\u001b[0m)      │             \u001b[38;5;34m0\u001b[0m │\n",
       "├─────────────────────────────────┼────────────────────────┼───────────────┤\n",
       "│ flatten (\u001b[38;5;33mFlatten\u001b[0m)               │ (\u001b[38;5;45mNone\u001b[0m, \u001b[38;5;34m16384\u001b[0m)          │             \u001b[38;5;34m0\u001b[0m │\n",
       "├─────────────────────────────────┼────────────────────────┼───────────────┤\n",
       "│ dense (\u001b[38;5;33mDense\u001b[0m)                   │ (\u001b[38;5;45mNone\u001b[0m, \u001b[38;5;34m1024\u001b[0m)           │    \u001b[38;5;34m16,778,240\u001b[0m │\n",
       "├─────────────────────────────────┼────────────────────────┼───────────────┤\n",
       "│ dense_1 (\u001b[38;5;33mDense\u001b[0m)                 │ (\u001b[38;5;45mNone\u001b[0m, \u001b[38;5;34m38\u001b[0m)             │        \u001b[38;5;34m38,950\u001b[0m │\n",
       "└─────────────────────────────────┴────────────────────────┴───────────────┘\n"
      ]
     },
     "metadata": {},
     "output_type": "display_data"
    },
    {
     "data": {
      "text/html": [
       "<pre style=\"white-space:pre;overflow-x:auto;line-height:normal;font-family:Menlo,'DejaVu Sans Mono',consolas,'Courier New',monospace\"><span style=\"font-weight: bold\"> Total params: </span><span style=\"color: #00af00; text-decoration-color: #00af00\">17,712,902</span> (67.57 MB)\n",
       "</pre>\n"
      ],
      "text/plain": [
       "\u001b[1m Total params: \u001b[0m\u001b[38;5;34m17,712,902\u001b[0m (67.57 MB)\n"
      ]
     },
     "metadata": {},
     "output_type": "display_data"
    },
    {
     "data": {
      "text/html": [
       "<pre style=\"white-space:pre;overflow-x:auto;line-height:normal;font-family:Menlo,'DejaVu Sans Mono',consolas,'Courier New',monospace\"><span style=\"font-weight: bold\"> Trainable params: </span><span style=\"color: #00af00; text-decoration-color: #00af00\">17,712,902</span> (67.57 MB)\n",
       "</pre>\n"
      ],
      "text/plain": [
       "\u001b[1m Trainable params: \u001b[0m\u001b[38;5;34m17,712,902\u001b[0m (67.57 MB)\n"
      ]
     },
     "metadata": {},
     "output_type": "display_data"
    },
    {
     "data": {
      "text/html": [
       "<pre style=\"white-space:pre;overflow-x:auto;line-height:normal;font-family:Menlo,'DejaVu Sans Mono',consolas,'Courier New',monospace\"><span style=\"font-weight: bold\"> Non-trainable params: </span><span style=\"color: #00af00; text-decoration-color: #00af00\">0</span> (0.00 B)\n",
       "</pre>\n"
      ],
      "text/plain": [
       "\u001b[1m Non-trainable params: \u001b[0m\u001b[38;5;34m0\u001b[0m (0.00 B)\n"
      ]
     },
     "metadata": {},
     "output_type": "display_data"
    }
   ],
   "source": [
    "model.summary()"
   ]
  },
  {
   "cell_type": "markdown",
   "id": "7269a2e3",
   "metadata": {},
   "source": [
    "## Model Training"
   ]
  },
  {
   "cell_type": "code",
   "execution_count": null,
   "id": "7add42fd",
   "metadata": {},
   "outputs": [
    {
     "name": "stdout",
     "output_type": "stream",
     "text": [
      "Epoch 1/10\n",
      "\u001b[1m2197/2197\u001b[0m \u001b[32m━━━━━━━━━━━━━━━━━━━━\u001b[0m\u001b[37m\u001b[0m \u001b[1m2142s\u001b[0m 975ms/step - accuracy: 0.6273 - loss: 1.2552 - val_accuracy: 0.7932 - val_loss: 0.6351\n",
      "Epoch 2/10\n",
      "\u001b[1m2197/2197\u001b[0m \u001b[32m━━━━━━━━━━━━━━━━━━━━\u001b[0m\u001b[37m\u001b[0m \u001b[1m2615s\u001b[0m 1s/step - accuracy: 0.8497 - loss: 0.4598 - val_accuracy: 0.8685 - val_loss: 0.3980\n",
      "Epoch 3/10\n",
      "\u001b[1m2197/2197\u001b[0m \u001b[32m━━━━━━━━━━━━━━━━━━━━\u001b[0m\u001b[37m\u001b[0m \u001b[1m2821s\u001b[0m 1s/step - accuracy: 0.8952 - loss: 0.3161 - val_accuracy: 0.8636 - val_loss: 0.4325\n",
      "Epoch 4/10\n",
      "\u001b[1m 215/2197\u001b[0m \u001b[32m━\u001b[0m\u001b[37m━━━━━━━━━━━━━━━━━━━\u001b[0m \u001b[1m43:35\u001b[0m 1s/step - accuracy: 0.9101 - loss: 0.2691"
     ]
    }
   ],
   "source": [
    "training_history = model.fit(x=training_set,validation_data = validation_set, epochs = 10)"
   ]
  },
  {
   "cell_type": "code",
   "execution_count": null,
   "id": "00e03d4c",
   "metadata": {},
   "outputs": [],
   "source": []
  }
 ],
 "metadata": {
  "kernelspec": {
   "display_name": "minorproject-env",
   "language": "python",
   "name": "python3"
  },
  "language_info": {
   "codemirror_mode": {
    "name": "ipython",
    "version": 3
   },
   "file_extension": ".py",
   "mimetype": "text/x-python",
   "name": "python",
   "nbconvert_exporter": "python",
   "pygments_lexer": "ipython3",
   "version": "3.10.13"
  }
 },
 "nbformat": 4,
 "nbformat_minor": 5
}
